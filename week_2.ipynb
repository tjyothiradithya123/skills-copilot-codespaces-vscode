{
  "nbformat": 4,
  "nbformat_minor": 0,
  "metadata": {
    "colab": {
      "provenance": [],
      "authorship_tag": "ABX9TyOpW/xaZIOhqMA9F1NEiwq9",
      "include_colab_link": true
    },
    "kernelspec": {
      "name": "python3",
      "display_name": "Python 3"
    },
    "language_info": {
      "name": "python"
    }
  },
  "cells": [
    {
      "cell_type": "markdown",
      "metadata": {
        "id": "view-in-github",
        "colab_type": "text"
      },
      "source": [
        "<a href=\"https://colab.research.google.com/github/tjyothiradithya123/skills-copilot-codespaces-vscode/blob/main/week_2.ipynb\" target=\"_parent\"><img src=\"https://colab.research.google.com/assets/colab-badge.svg\" alt=\"Open In Colab\"/></a>"
      ]
    },
    {
      "cell_type": "code",
      "execution_count": null,
      "metadata": {
        "id": "pOojsOsWq0Me"
      },
      "outputs": [],
      "source": [
        "def Temperature_modeling(a,b,c,time):\n",
        "  temperature = a*time**2 +  b*time + c\n",
        "  return temperature"
      ]
    },
    {
      "cell_type": "code",
      "source": [
        "# Hardcoded variables\n",
        "a,b,c=0.1,2,10\n",
        "time = 5"
      ],
      "metadata": {
        "id": "B16S3q8MuxEB"
      },
      "execution_count": null,
      "outputs": []
    },
    {
      "cell_type": "code",
      "source": [
        "#display results\n",
        "print(\"Hard-coded variables for weather modeling\")\n",
        "print(\"Temperature for hardcoded coefficients at time\",time,\"hours:\",Temperature_modeling(a,b,c,time))"
      ],
      "metadata": {
        "colab": {
          "base_uri": "https://localhost:8080/"
        },
        "id": "4cMt9VqyvB13",
        "outputId": "2b719556-69e4-4302-87c4-aba73fe6eed6"
      },
      "execution_count": null,
      "outputs": [
        {
          "output_type": "stream",
          "name": "stdout",
          "text": [
            "Hard-coded variables for weather modeling\n",
            "Temperature for hardcoded coefficients at time 5 hours: 22.5\n"
          ]
        }
      ]
    },
    {
      "cell_type": "code",
      "source": [
        "a=float(input(\"Enter coefficient a:\"))\n",
        "b=float(input(\"Enter coefficient b:\"))\n",
        "c=float(input(\"Enter coefficient c:\"))\n"
      ],
      "metadata": {
        "colab": {
          "base_uri": "https://localhost:8080/"
        },
        "id": "EtLNuwt_w55m",
        "outputId": "d6fade00-7399-4b87-a24f-503f419a8e46"
      },
      "execution_count": null,
      "outputs": [
        {
          "name": "stdout",
          "output_type": "stream",
          "text": [
            "Enter coefficient a:0.2\n",
            "Enter coefficient b:5\n",
            "Enter coefficient c:15\n"
          ]
        }
      ]
    },
    {
      "cell_type": "code",
      "source": [
        "time=float(input(\"Enter time\"))"
      ],
      "metadata": {
        "colab": {
          "base_uri": "https://localhost:8080/"
        },
        "id": "Q9UMsZQdxh5j",
        "outputId": "daca24ee-3658-46ff-ead6-3a93f400c1b7"
      },
      "execution_count": null,
      "outputs": [
        {
          "name": "stdout",
          "output_type": "stream",
          "text": [
            "Enter time6\n"
          ]
        }
      ]
    },
    {
      "cell_type": "code",
      "source": [
        "#variables read from keyboard\n",
        "print(\"Hard-coded variables for weather modeling\")\n",
        "print(\"Temperature for keyboard coefficients at time\",time,\"hours:\",Temperature_modeling(a,b,c,time))"
      ],
      "metadata": {
        "colab": {
          "base_uri": "https://localhost:8080/"
        },
        "id": "-UQeEz5Uxth6",
        "outputId": "1d1627ad-4740-4b5a-b634-bd0ffc758235"
      },
      "execution_count": null,
      "outputs": [
        {
          "output_type": "stream",
          "name": "stdout",
          "text": [
            "Hard-coded variables for weather modeling\n",
            "Temperature for keyboard coefficients at time 6.0 hours: 52.2\n"
          ]
        }
      ]
    },
    {
      "cell_type": "code",
      "source": [
        "#Read coefficients from a file\n",
        "def read_from_file(filename):\n",
        "  with open(filename, 'r') as file:\n",
        "       lines = file.readlines()\n",
        "  coefficients = [tuple (map (float, line.strip().split(','))) for line in lines]\n",
        "  return coefficients"
      ],
      "metadata": {
        "id": "7mUQZHOLyHET"
      },
      "execution_count": null,
      "outputs": []
    },
    {
      "cell_type": "markdown",
      "source": [],
      "metadata": {
        "id": "94ghaDACz_XJ"
      }
    },
    {
      "cell_type": "code",
      "source": [
        "# Example: Solve for a single set of inputs\n",
        "coefficients = read_from_file('/content/1220.txt')\n",
        "a, b, c, time = coefficients [0] # First set of coefficients\n",
        "temperature = Temperature_modeling(a, b, c, time)\n",
        "print(\"read from a file for weather modeling\")\n",
        "print(\"Temperature form keyboard coefficients at time\", time, \"hours:\", Temperature_modeling(a,b,c,time))"
      ],
      "metadata": {
        "colab": {
          "base_uri": "https://localhost:8080/"
        },
        "id": "NIb3so8_z_yw",
        "outputId": "c591388e-fe65-44b9-c783-5eb7edab361e"
      },
      "execution_count": null,
      "outputs": [
        {
          "output_type": "stream",
          "name": "stdout",
          "text": [
            "read from a file for weather modeling\n",
            "Temperature form keyboard coefficients at time 0.0 hours: 2.0\n"
          ]
        }
      ]
    },
    {
      "cell_type": "code",
      "source": [
        "# Solve for all sets in the file\n",
        "for idx, (a, b, c,time) in enumerate (coefficients):\n",
        "    temperature = Temperature_modeling(a, b, c,time)\n",
        "    print(\"Temperature form keyboard coefficients at time\", time, \"hours:\", Temperature_modeling (a,b,c,time))"
      ],
      "metadata": {
        "colab": {
          "base_uri": "https://localhost:8080/"
        },
        "id": "Hl3fAmEr1EAA",
        "outputId": "02d55826-75b7-4395-f15f-77731a21acf9"
      },
      "execution_count": null,
      "outputs": [
        {
          "output_type": "stream",
          "name": "stdout",
          "text": [
            "Temperature form keyboard coefficients at time 0.0 hours: 2.0\n",
            "Temperature form keyboard coefficients at time 4.0 hours: 27.0\n",
            "Temperature form keyboard coefficients at time 4.0 hours: 30.0\n"
          ]
        }
      ]
    }
  ]
}